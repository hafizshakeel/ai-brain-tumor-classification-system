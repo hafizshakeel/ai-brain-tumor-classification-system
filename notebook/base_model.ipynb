{
 "cells": [
  {
   "cell_type": "code",
   "execution_count": 1,
   "id": "73130d59",
   "metadata": {},
   "outputs": [],
   "source": [
    "import os"
   ]
  },
  {
   "cell_type": "code",
   "execution_count": 2,
   "id": "492d7e1b",
   "metadata": {},
   "outputs": [
    {
     "data": {
      "text/plain": [
       "'d:\\\\Production\\\\projects\\\\brain-tumor-classification-p5\\\\notebook'"
      ]
     },
     "execution_count": 2,
     "metadata": {},
     "output_type": "execute_result"
    }
   ],
   "source": [
    "%pwd"
   ]
  },
  {
   "cell_type": "code",
   "execution_count": 3,
   "id": "64d1cbba",
   "metadata": {},
   "outputs": [],
   "source": [
    "os.chdir(\"../\")\n"
   ]
  },
  {
   "cell_type": "code",
   "execution_count": 4,
   "id": "9f4c725f",
   "metadata": {},
   "outputs": [
    {
     "data": {
      "text/plain": [
       "'d:\\\\Production\\\\projects\\\\brain-tumor-classification-p5'"
      ]
     },
     "execution_count": 4,
     "metadata": {},
     "output_type": "execute_result"
    }
   ],
   "source": [
    "%pwd"
   ]
  },
  {
   "cell_type": "code",
   "execution_count": 5,
   "id": "1007b5ad",
   "metadata": {},
   "outputs": [
    {
     "name": "stderr",
     "output_type": "stream",
     "text": [
      "c:\\ProgramData\\anaconda3\\envs\\cv\\Lib\\site-packages\\tqdm\\auto.py:21: TqdmWarning: IProgress not found. Please update jupyter and ipywidgets. See https://ipywidgets.readthedocs.io/en/stable/user_install.html\n",
      "  from .autonotebook import tqdm as notebook_tqdm\n"
     ]
    }
   ],
   "source": [
    "import torch\n",
    "import torch.nn as nn\n",
    "import timm\n",
    "from dataclasses import dataclass\n",
    "from pathlib import Path\n",
    "from src.brain_tumor_classification.utils.common import read_yaml, create_directories\n",
    "from src.brain_tumor_classification.constants import *\n",
    "from src.brain_tumor_classification import logger"
   ]
  },
  {
   "cell_type": "markdown",
   "id": "943a1e23",
   "metadata": {},
   "source": [
    "### Entity"
   ]
  },
  {
   "cell_type": "code",
   "execution_count": 6,
   "id": "8b0e3d30",
   "metadata": {},
   "outputs": [],
   "source": [
    "@dataclass(frozen=True)\n",
    "class PrepareBaseModelConfig:\n",
    "    root_dir: Path\n",
    "    base_model_path: Path\n",
    "    updated_model_path: Path\n",
    "    model_name: str\n",
    "    image_size: list\n",
    "    num_classes: int\n",
    "    learning_rate: float\n",
    "    weight_decay: float\n",
    "    freeze_base: bool"
   ]
  },
  {
   "cell_type": "markdown",
   "id": "6a6e5a5c",
   "metadata": {},
   "source": [
    "### Configuration"
   ]
  },
  {
   "cell_type": "code",
   "execution_count": 7,
   "id": "a603da4e",
   "metadata": {},
   "outputs": [],
   "source": [
    "# Configuration Manager\n",
    "class ConfigurationManager:\n",
    "    def __init__(self, config_filepath=CONFIG_FILE_PATH, params_filepath=PARAMS_FILE_PATH):\n",
    "        self.config = read_yaml(config_filepath)\n",
    "        self.params = read_yaml(params_filepath)\n",
    "        create_directories([self.config.artifacts_root])\n",
    "\n",
    "    def prepare_base_model_config(self) -> PrepareBaseModelConfig:\n",
    "        config = self.config.prepare_base_model\n",
    "        params = self.params.base_model\n",
    "        create_directories([config.root_dir])\n",
    "\n",
    "        return PrepareBaseModelConfig(\n",
    "            root_dir=config.root_dir,\n",
    "            base_model_path=config.base_model_path,\n",
    "            updated_model_path=config.updated_model_path,\n",
    "            model_name=params.model_name,\n",
    "            image_size=params.image_size,\n",
    "            num_classes=params.num_classes,\n",
    "            learning_rate=params.learning_rate,\n",
    "            weight_decay=params.weight_decay,\n",
    "            freeze_base=params.freeze_base\n",
    "        )"
   ]
  },
  {
   "cell_type": "markdown",
   "id": "1a650d71",
   "metadata": {},
   "source": [
    "### Model"
   ]
  },
  {
   "cell_type": "code",
   "execution_count": 8,
   "id": "11f3efe8",
   "metadata": {},
   "outputs": [],
   "source": [
    "# Base Model Preparation\n",
    "class PrepareBaseModel:\n",
    "    def __init__(self, config: PrepareBaseModelConfig):\n",
    "        self.config = config\n",
    "        self.model = None\n",
    "\n",
    "    def load_model(self):\n",
    "        logger.info(f\"Loading pretrained model: {self.config.model_name}\")\n",
    "        self.model = timm.create_model(\n",
    "            self.config.model_name,\n",
    "            pretrained=True,\n",
    "            num_classes=self.config.num_classes\n",
    "        )\n",
    "        logger.info(f\"Model {self.config.model_name} loaded successfully.\")\n",
    "\n",
    "        # Save raw base model\n",
    "        torch.save(self.model, self.config.base_model_path)\n",
    "        logger.info(f\"Base model saved at: {self.config.base_model_path}\")\n",
    "\n",
    "    def freeze_base_layers(self):\n",
    "        if self.config.freeze_base and self.model is not None:\n",
    "            logger.info(\"Freezing base layers...\")\n",
    "            for param in self.model.parameters():\n",
    "                param.requires_grad = False\n",
    "            # Keep classifier head trainable\n",
    "            for param in self.model.get_classifier().parameters():\n",
    "                param.requires_grad = True\n",
    "            logger.info(\"Base layers frozen, classifier head trainable.\")\n",
    "\n",
    "    def save_updated_model(self):\n",
    "        torch.save(self.model, self.config.updated_model_path)\n",
    "        logger.info(f\"Updated model saved at: {self.config.updated_model_path}\")\n"
   ]
  },
  {
   "cell_type": "code",
   "execution_count": 9,
   "id": "6f0adcf2",
   "metadata": {},
   "outputs": [
    {
     "name": "stdout",
     "output_type": "stream",
     "text": [
      "[2025-08-31 18:26:17,716: INFO: common: yaml file: config\\config.yaml loaded successfully]\n",
      "[2025-08-31 18:26:17,720: INFO: common: yaml file: config\\params.yaml loaded successfully]\n",
      "[2025-08-31 18:26:17,722: INFO: common: created directory at: artifacts]\n",
      "[2025-08-31 18:26:17,726: INFO: common: created directory at: artifacts/prepare_base_model]\n",
      "[2025-08-31 18:26:17,727: INFO: 4290034370: Loading pretrained model: swin_tiny_patch4_window7_224]\n",
      "[2025-08-31 18:26:18,111: INFO: _builder: Loading pretrained weights from Hugging Face hub (timm/swin_tiny_patch4_window7_224.ms_in1k)]\n",
      "[2025-08-31 18:26:18,782: INFO: _hub: [timm/swin_tiny_patch4_window7_224.ms_in1k] Safe alternative available for 'pytorch_model.bin' (as 'model.safetensors'). Loading weights using safetensors.]\n",
      "[2025-08-31 18:26:18,979: INFO: _builder: Missing keys (head.fc.weight, head.fc.bias) discovered while loading pretrained weights. This is expected if model is being adapted.]\n",
      "[2025-08-31 18:26:19,000: INFO: 4290034370: Model swin_tiny_patch4_window7_224 loaded successfully.]\n",
      "[2025-08-31 18:26:19,502: INFO: 4290034370: Base model saved at: artifacts/prepare_base_model/base_model.pth]\n",
      "[2025-08-31 18:26:19,503: INFO: 4290034370: Freezing base layers...]\n",
      "[2025-08-31 18:26:19,505: INFO: 4290034370: Base layers frozen, classifier head trainable.]\n",
      "[2025-08-31 18:26:19,797: INFO: 4290034370: Updated model saved at: artifacts/prepare_base_model/updated_model.pth]\n"
     ]
    }
   ],
   "source": [
    "try:\n",
    "    config = ConfigurationManager()\n",
    "    prepare_base_model_config = config.prepare_base_model_config()\n",
    "    prepare_base_model = PrepareBaseModel(config=prepare_base_model_config)\n",
    "\n",
    "    prepare_base_model.load_model()\n",
    "    prepare_base_model.freeze_base_layers()\n",
    "    prepare_base_model.save_updated_model()\n",
    "\n",
    "except Exception as e:\n",
    "    raise e"
   ]
  },
  {
   "cell_type": "code",
   "execution_count": null,
   "id": "4b272f28",
   "metadata": {},
   "outputs": [],
   "source": []
  }
 ],
 "metadata": {
  "kernelspec": {
   "display_name": "cv",
   "language": "python",
   "name": "python3"
  },
  "language_info": {
   "codemirror_mode": {
    "name": "ipython",
    "version": 3
   },
   "file_extension": ".py",
   "mimetype": "text/x-python",
   "name": "python",
   "nbconvert_exporter": "python",
   "pygments_lexer": "ipython3",
   "version": "3.12.11"
  }
 },
 "nbformat": 4,
 "nbformat_minor": 5
}
