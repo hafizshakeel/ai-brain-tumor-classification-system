{
 "cells": [
  {
   "cell_type": "markdown",
   "id": "7d2fd50b",
   "metadata": {},
   "source": [
    "### Download data from google drive"
   ]
  },
  {
   "cell_type": "code",
   "execution_count": 4,
   "id": "5a132af4",
   "metadata": {},
   "outputs": [],
   "source": [
    "import gdown"
   ]
  },
  {
   "cell_type": "code",
   "execution_count": 5,
   "id": "d33baca7",
   "metadata": {},
   "outputs": [],
   "source": [
    "url = \"https://drive.google.com/file/d/1lBXxZ2dZjJYXTjgQ0KDhMayCvZSO9LFB/view?usp=sharing\"\n"
   ]
  },
  {
   "cell_type": "code",
   "execution_count": 6,
   "id": "83b81989",
   "metadata": {},
   "outputs": [
    {
     "data": {
      "text/plain": [
       "['https:',\n",
       " '',\n",
       " 'drive.google.com',\n",
       " 'file',\n",
       " 'd',\n",
       " '1lBXxZ2dZjJYXTjgQ0KDhMayCvZSO9LFB',\n",
       " 'view?usp=sharing']"
      ]
     },
     "execution_count": 6,
     "metadata": {},
     "output_type": "execute_result"
    }
   ],
   "source": [
    "url.split(\"/\")"
   ]
  },
  {
   "cell_type": "code",
   "execution_count": 7,
   "id": "bbbf47b8",
   "metadata": {},
   "outputs": [
    {
     "data": {
      "text/plain": [
       "'1lBXxZ2dZjJYXTjgQ0KDhMayCvZSO9LFB'"
      ]
     },
     "execution_count": 7,
     "metadata": {},
     "output_type": "execute_result"
    }
   ],
   "source": [
    "url.split(\"/\")[5]\n"
   ]
  },
  {
   "cell_type": "code",
   "execution_count": 8,
   "id": "4c44bd64",
   "metadata": {},
   "outputs": [
    {
     "data": {
      "text/plain": [
       "'1lBXxZ2dZjJYXTjgQ0KDhMayCvZSO9LFB'"
      ]
     },
     "execution_count": 8,
     "metadata": {},
     "output_type": "execute_result"
    }
   ],
   "source": [
    "file_id = url.split(\"/\")[-2]\n",
    "file_id"
   ]
  },
  {
   "cell_type": "markdown",
   "id": "f3ce37b8",
   "metadata": {},
   "source": [
    "<!-- https://drive.usercontent.google.com/uc?id=1YpF4qHWF0rGll0sHJYxrKIJL4nIMl1qi&export=download -->"
   ]
  },
  {
   "cell_type": "code",
   "execution_count": 9,
   "id": "3ce4d406",
   "metadata": {},
   "outputs": [
    {
     "name": "stderr",
     "output_type": "stream",
     "text": [
      "c:\\ProgramData\\anaconda3\\envs\\cv\\Lib\\site-packages\\tqdm\\auto.py:21: TqdmWarning: IProgress not found. Please update jupyter and ipywidgets. See https://ipywidgets.readthedocs.io/en/stable/user_install.html\n",
      "  from .autonotebook import tqdm as notebook_tqdm\n"
     ]
    },
    {
     "name": "stdout",
     "output_type": "stream",
     "text": [
      "Path to dataset files: C:\\Users\\hafiz\\.cache\\kagglehub\\datasets\\mohamedhanyyy\\chest-ctscan-images\\versions\\1\n"
     ]
    }
   ],
   "source": [
    "import kagglehub\n",
    "\n",
    "# Download latest version\n",
    "path = kagglehub.dataset_download(\"mohamedhanyyy/chest-ctscan-images\")\n",
    "\n",
    "print(\"Path to dataset files:\", path)"
   ]
  },
  {
   "cell_type": "code",
   "execution_count": null,
   "id": "869bdfde",
   "metadata": {},
   "outputs": [],
   "source": []
  }
 ],
 "metadata": {
  "kernelspec": {
   "display_name": "cv",
   "language": "python",
   "name": "python3"
  },
  "language_info": {
   "codemirror_mode": {
    "name": "ipython",
    "version": 3
   },
   "file_extension": ".py",
   "mimetype": "text/x-python",
   "name": "python",
   "nbconvert_exporter": "python",
   "pygments_lexer": "ipython3",
   "version": "3.12.11"
  }
 },
 "nbformat": 4,
 "nbformat_minor": 5
}
