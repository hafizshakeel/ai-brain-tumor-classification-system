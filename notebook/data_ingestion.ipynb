{
 "cells": [
  {
   "cell_type": "code",
   "execution_count": 1,
   "id": "b744053b",
   "metadata": {},
   "outputs": [],
   "source": [
    "import os "
   ]
  },
  {
   "cell_type": "code",
   "execution_count": 2,
   "id": "6f674f20",
   "metadata": {},
   "outputs": [
    {
     "data": {
      "text/plain": [
       "'d:\\\\Production\\\\projects\\\\chest-cancer-classification-p5\\\\notebook'"
      ]
     },
     "execution_count": 2,
     "metadata": {},
     "output_type": "execute_result"
    }
   ],
   "source": [
    "%pwd"
   ]
  },
  {
   "cell_type": "code",
   "execution_count": 3,
   "id": "f6d62a4a",
   "metadata": {},
   "outputs": [],
   "source": [
    "os.chdir(\"../\")"
   ]
  },
  {
   "cell_type": "code",
   "execution_count": 22,
   "id": "dbe09e2e",
   "metadata": {},
   "outputs": [
    {
     "data": {
      "text/plain": [
       "'d:\\\\Production\\\\projects\\\\chest-cancer-classification-p5'"
      ]
     },
     "execution_count": 22,
     "metadata": {},
     "output_type": "execute_result"
    }
   ],
   "source": [
    "%pwd"
   ]
  },
  {
   "cell_type": "markdown",
   "id": "eef62c87",
   "metadata": {},
   "source": [
    "### Update the entity"
   ]
  },
  {
   "cell_type": "code",
   "execution_count": 23,
   "id": "f95a1bbb",
   "metadata": {},
   "outputs": [],
   "source": [
    "from dataclasses import dataclass\n",
    "from pathlib import Path\n",
    "\n",
    "@dataclass(frozen=True)\n",
    "class DataIngestionConfig:\n",
    "    root_dir: Path\n",
    "    source_url: str\n",
    "    local_data_file: Path\n",
    "    unzip_dir: Path\n",
    "\n",
    "    "
   ]
  },
  {
   "cell_type": "markdown",
   "id": "fcfdd0fa",
   "metadata": {},
   "source": [
    "### Update the configuration manager in src config"
   ]
  },
  {
   "cell_type": "code",
   "execution_count": null,
   "id": "5cc85457",
   "metadata": {},
   "outputs": [],
   "source": [
    "from src.brain_tumor_classification.constants import *\n",
    "from src.brain_tumor_classification.utils.common import read_yaml, create_directories"
   ]
  },
  {
   "cell_type": "code",
   "execution_count": 25,
   "id": "4420ab05",
   "metadata": {},
   "outputs": [],
   "source": [
    "class ConfigurationManager:\n",
    "    def __init__(\n",
    "        self,\n",
    "        config_filepath=CONFIG_FILE_PATH,\n",
    "        params_filepath=PARAMS_FILE_PATH\n",
    "    ):\n",
    "        self.config = read_yaml(config_filepath)\n",
    "        self.params = read_yaml(params_filepath)\n",
    "\n",
    "        create_directories([self.config.artifacts_root])\n",
    "\n",
    "    def get_data_ingestion_config(self, source_type: str) -> DataIngestionConfig:\n",
    "        \"\"\"\n",
    "        source_type: 'gdrive' or 'kaggle'\n",
    "        \"\"\"\n",
    "        if source_type == \"gdrive\":\n",
    "            config = self.config.data_ingestion_gdrive\n",
    "        elif source_type == \"kaggle\":\n",
    "            config = self.config.data_ingestion_kaggle\n",
    "        else:\n",
    "            raise ValueError(f\"Invalid source_type: {source_type}, choose 'gdrive' or 'kaggle'\")\n",
    "\n",
    "        create_directories([config.root_dir])\n",
    "\n",
    "        return DataIngestionConfig(\n",
    "            root_dir=config.root_dir,\n",
    "            source_url=config.source_url,\n",
    "            local_data_file=config.local_data_file,\n",
    "            unzip_dir=config.unzip_dir\n",
    "        )"
   ]
  },
  {
   "cell_type": "markdown",
   "id": "5298970d",
   "metadata": {},
   "source": [
    "### Update the components"
   ]
  },
  {
   "cell_type": "code",
   "execution_count": null,
   "id": "ca18d574",
   "metadata": {},
   "outputs": [],
   "source": [
    "import os\n",
    "import zipfile\n",
    "import gdown\n",
    "import kagglehub\n",
    "import shutil\n",
    "from src.brain_tumor_classification import logger"
   ]
  },
  {
   "cell_type": "code",
   "execution_count": 27,
   "id": "930e4320",
   "metadata": {},
   "outputs": [],
   "source": [
    "class DataIngestion:\n",
    "    def __init__(self, config: DataIngestionConfig, source: str):\n",
    "        self.config = config\n",
    "        self.source = source\n",
    "        self.downloaded_path = None\n",
    "\n",
    "    def download(self) -> str:\n",
    "        \"\"\"Download dataset from gdrive or kaggle.\"\"\"\n",
    "        try:\n",
    "            if self.source == \"gdrive\":\n",
    "                self._download_from_gdrive()\n",
    "            elif self.source == \"kaggle\":\n",
    "                self._download_from_kaggle()\n",
    "            else:\n",
    "                raise ValueError(f\"Unsupported source: {self.source}\")\n",
    "\n",
    "        except Exception as e:\n",
    "            raise e\n",
    "        return self.config.local_data_file\n",
    "\n",
    "    def _download_from_gdrive(self):\n",
    "        dataset_url = self.config.source_url\n",
    "        zip_download_dir = self.config.local_data_file\n",
    "        os.makedirs(self.config.root_dir, exist_ok=True)\n",
    "\n",
    "        logger.info(f\"Downloading data from {dataset_url} into file {zip_download_dir}\")\n",
    "        file_id = dataset_url.split(\"/\")[-2]\n",
    "        prefix = 'https://drive.google.com/uc?/export=download&id='\n",
    "        gdown.download(prefix + file_id, str(zip_download_dir), quiet=False)\n",
    "        logger.info(f\"Downloaded data from {dataset_url} into file {zip_download_dir}\")\n",
    "\n",
    "    def _download_from_kaggle(self):\n",
    "        dataset_slug = self.config.source_url\n",
    "        os.makedirs(self.config.root_dir, exist_ok=True)\n",
    "\n",
    "        logger.info(f\"Downloading Kaggle dataset '{dataset_slug}'\")\n",
    "        self.downloaded_path = kagglehub.dataset_download(dataset_slug)\n",
    "        logger.info(f\"Dataset downloaded to cache: {self.downloaded_path}\")\n",
    "\n",
    "        # Move instead of copy (avoid duplicates)\n",
    "        if os.path.exists(self.config.local_data_file):\n",
    "            shutil.rmtree(self.config.local_data_file)\n",
    "        shutil.move(self.downloaded_path, self.config.local_data_file)\n",
    "\n",
    "        logger.info(f\"Kaggle dataset moved to {self.config.local_data_file}\")\n",
    "\n",
    "    def extract_zip_file(self):\n",
    "        \"\"\"Extract if it's a zip file.\"\"\"\n",
    "        try:\n",
    "            if str(self.config.local_data_file).endswith(\".zip\"):\n",
    "                unzip_path = self.config.unzip_dir\n",
    "                os.makedirs(unzip_path, exist_ok=True)\n",
    "\n",
    "                with zipfile.ZipFile(self.config.local_data_file, 'r') as zip_ref:\n",
    "                    zip_ref.extractall(unzip_path)\n",
    "\n",
    "                logger.info(f\"Extracted zip file to {unzip_path}\")\n",
    "            else:\n",
    "                logger.info(\"No extraction needed (not a zip file).\")\n",
    "\n",
    "        except Exception as e:\n",
    "            raise e\n"
   ]
  },
  {
   "cell_type": "markdown",
   "id": "bd7d395f",
   "metadata": {},
   "source": [
    "### Update the pipeline"
   ]
  },
  {
   "cell_type": "code",
   "execution_count": null,
   "id": "f1c30f6a",
   "metadata": {},
   "outputs": [],
   "source": [
    "try:\n",
    "    config = ConfigurationManager()\n",
    "    # Source: kaggle or gdrive\n",
    "    data_ingestion_cfg = config.get_data_ingestion_config(\"kaggle\")\n",
    "    data_ingestion = DataIngestion(config=data_ingestion_cfg, source=\"kaggle\")\n",
    "    data_ingestion.download()\n",
    "    data_ingestion.extract_zip_file()\n",
    "\n",
    "except Exception as e:\n",
    "    raise e"
   ]
  },
  {
   "cell_type": "code",
   "execution_count": null,
   "id": "dce540d4",
   "metadata": {},
   "outputs": [],
   "source": []
  }
 ],
 "metadata": {
  "kernelspec": {
   "display_name": "cv",
   "language": "python",
   "name": "python3"
  },
  "language_info": {
   "codemirror_mode": {
    "name": "ipython",
    "version": 3
   },
   "file_extension": ".py",
   "mimetype": "text/x-python",
   "name": "python",
   "nbconvert_exporter": "python",
   "pygments_lexer": "ipython3",
   "version": "3.12.11"
  }
 },
 "nbformat": 4,
 "nbformat_minor": 5
}
